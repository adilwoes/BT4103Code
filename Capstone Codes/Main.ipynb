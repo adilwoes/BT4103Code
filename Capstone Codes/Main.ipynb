{
 "cells": [
  {
   "cell_type": "markdown",
   "id": "c76d3bc7",
   "metadata": {},
   "source": [
    "# Project 1"
   ]
  },
  {
   "cell_type": "code",
   "execution_count": 1,
   "id": "39d3bda3",
   "metadata": {},
   "outputs": [],
   "source": [
    "import os\n",
    "import warnings\n",
    "warnings.filterwarnings(\"ignore\")\n",
    "current_directory = os.getcwd()"
   ]
  },
  {
   "cell_type": "code",
   "execution_count": 2,
   "id": "faff53d5",
   "metadata": {},
   "outputs": [],
   "source": [
    "# list of FI analysts - update accordingly\n",
    "ANALYSTS = ['david jinjie', 'hu haoran', 'nathan linarto', \n",
    "            'winson lua', 'ng kaihui', 'angeline phoa', \n",
    "            'gopinath ranganathan', 'venkat-krishnan ravikumar', \n",
    "            'seah yi-xuan', 'vasanth somasundaram', 'nicholas tee']"
   ]
  },
  {
   "cell_type": "code",
   "execution_count": 3,
   "id": "46d290b4",
   "metadata": {},
   "outputs": [],
   "source": [
    "from codes import format_job_input_form\n",
    "file_directory = '/Data/Job Input Form_cleaned.xlsm'\n",
    "tab_name = 'Hist. Data'\n",
    "format_job_input_form.run_format(current_directory, file_directory, tab_name, ANALYSTS)"
   ]
  },
  {
   "cell_type": "markdown",
   "id": "5584fe24",
   "metadata": {},
   "source": [
    "# Project 2"
   ]
  },
  {
   "cell_type": "code",
   "execution_count": 6,
   "id": "37104550",
   "metadata": {},
   "outputs": [],
   "source": [
    "#pip install plotlyPowerpoint\n",
    "#pip install -U kaleido\n",
    "#pip install holidays\n",
    "#pip install python-pptx\n",
    "\n",
    "from codes import Cleaning \n",
    "from codes import Imputing  \n",
    "from codes import Calculation\n",
    "from codes.build_dashboard import BuildDashboard\n",
    "\n",
    "directory = r'C:\\Users\\aliciteo\\Documents\\Priority_List'"
   ]
  },
  {
   "cell_type": "markdown",
   "id": "3e5b6498",
   "metadata": {},
   "source": [
    "# Step 1: Data Cleaning"
   ]
  },
  {
   "cell_type": "code",
   "execution_count": 7,
   "id": "49cc8e59",
   "metadata": {},
   "outputs": [
    {
     "name": "stdout",
     "output_type": "stream",
     "text": [
      "1. All Strings are reformatted, data is cleaned\n",
      "2. Useful features are created\n",
      "3. Irrelevant jobs (e.g. PFA only jobs are removed\n",
      "4. Missing Data is outputted in Excel at \n",
      " C:\\Users\\aliciteo\\Documents\\Priority_List \n",
      " as Data/Singapore_Device_Priority_2022 - Missing Data.xlsx\n",
      "5. Cleaned Data is outputted in Excel at \n",
      " C:\\Users\\aliciteo\\Documents\\Priority_List \n",
      " as Data/Singapore_Device_Priority_2022 - Cleaned Data.xlsx\n"
     ]
    }
   ],
   "source": [
    "Cleaning.run_clean(directory)"
   ]
  },
  {
   "cell_type": "markdown",
   "id": "1776a0da",
   "metadata": {},
   "source": [
    "# Step 2: Missing Data Retrieval (Investigation)"
   ]
  },
  {
   "cell_type": "markdown",
   "id": "5858b698",
   "metadata": {},
   "source": [
    "# Step 3: Data Imputation"
   ]
  },
  {
   "cell_type": "code",
   "execution_count": 8,
   "id": "9f7afbb7",
   "metadata": {},
   "outputs": [
    {
     "name": "stdout",
     "output_type": "stream",
     "text": [
      "1. DataFrame has been updated with the latest data\n",
      "2. All dates are standardised\n",
      "3. Resume and Pause Columns are filled\n",
      "4. Incoming Jobs are formatted\n",
      "5. Cancelled Jobs are formatted\n",
      "6. Smart Inference excuted for FI Pause and Resume\n",
      "Please check LMS #: []\n",
      "7. Imputed Data is outputted in Excel at \n",
      " C:\\Users\\aliciteo\\Documents\\Priority_List \n",
      " as Data/Singapore_Device_Priority_2022 - Imputed.xlsx\n"
     ]
    }
   ],
   "source": [
    "Imputing.run_impute(directory)"
   ]
  },
  {
   "cell_type": "markdown",
   "id": "dd803462",
   "metadata": {},
   "source": [
    "# Step 4: Metrics Calculation"
   ]
  },
  {
   "cell_type": "code",
   "execution_count": 9,
   "id": "9c003dd0",
   "metadata": {},
   "outputs": [
    {
     "name": "stdout",
     "output_type": "stream",
     "text": [
      "1. Summary of Jobs have been processed\n",
      "\n",
      "Total jobs in database: 136\n",
      "Total completed jobs: 98\n",
      "---------------------------------------------\n",
      "Total completed jobs by FI-only: 21\n",
      "Total completed jobs by FI-only without completed date: 0\n",
      "Total completed jobs by FI-only without start date: 1\n",
      "Total completed jobs by FI-only with both dates: 20\n",
      "FI-Only Jobs without completed/ start dates:\n",
      "['CS0026042SG']\n",
      "---------------------------------------------\n",
      "Total completed jobs by FI-PFA: 77\n",
      "Total completed jobs by FI-PFA without completed date: 0\n",
      "Total completed jobs by FI-PFA without start date: 0\n",
      "Total completed jobs by FI-PFA with both dates: 77\n",
      "\n",
      "2. Turnaround time has been calculated\n",
      "3. Calculated Data is outputted in Excel \n",
      " at C:\\Users\\aliciteo\\Documents\\Priority_List \n",
      " as Data/Singapore_Device_Priority_2022 - Calculated.xlsx\n"
     ]
    }
   ],
   "source": [
    "Calculation.run_calculation(directory)"
   ]
  },
  {
   "cell_type": "markdown",
   "id": "b4772260",
   "metadata": {},
   "source": [
    "# Step 5: Dashboard Visualisation"
   ]
  },
  {
   "cell_type": "code",
   "execution_count": 12,
   "id": "fd14fd22",
   "metadata": {},
   "outputs": [
    {
     "data": {
      "application/javascript": [
       "IPython.OutputArea.auto_scroll_threshold = 9999;\n"
      ],
      "text/plain": [
       "<IPython.core.display.Javascript object>"
      ]
     },
     "metadata": {},
     "output_type": "display_data"
    }
   ],
   "source": [
    "%%javascript\n",
    "IPython.OutputArea.auto_scroll_threshold = 9999;"
   ]
  },
  {
   "cell_type": "code",
   "execution_count": 15,
   "id": "716802bf",
   "metadata": {
    "scrolled": false
   },
   "outputs": [
    {
     "data": {
      "application/vnd.jupyter.widget-view+json": {
       "model_id": "43ba90ffd7524c37aad3b7722772b847",
       "version_major": 2,
       "version_minor": 0
      },
      "text/plain": [
       "VBox(children=(HBox(children=(Button(button_style='warning', description='Export KPI Graphs to PPT', layout=La…"
      ]
     },
     "metadata": {},
     "output_type": "display_data"
    }
   ],
   "source": [
    "app = BuildDashboard().app\n",
    "app"
   ]
  },
  {
   "cell_type": "code",
   "execution_count": null,
   "id": "635fa24d",
   "metadata": {},
   "outputs": [],
   "source": []
  }
 ],
 "metadata": {
  "kernelspec": {
   "display_name": "Python 3 (ipykernel)",
   "language": "python",
   "name": "python3"
  },
  "language_info": {
   "codemirror_mode": {
    "name": "ipython",
    "version": 3
   },
   "file_extension": ".py",
   "mimetype": "text/x-python",
   "name": "python",
   "nbconvert_exporter": "python",
   "pygments_lexer": "ipython3",
   "version": "3.9.7"
  }
 },
 "nbformat": 4,
 "nbformat_minor": 5
}
