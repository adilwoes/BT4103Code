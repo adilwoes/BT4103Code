{
 "cells": [
  {
   "cell_type": "markdown",
   "id": "b71a4b5e",
   "metadata": {},
   "source": [
    "# Project 1"
   ]
  },
  {
   "cell_type": "code",
   "execution_count": 4,
   "id": "8bea57bb",
   "metadata": {},
   "outputs": [],
   "source": [
    "import os\n",
    "import warnings\n",
    "warnings.filterwarnings(\"ignore\")\n",
    "current_directory = os.getcwd()"
   ]
  },
  {
   "cell_type": "code",
   "execution_count": 5,
   "id": "b3d46bf7",
   "metadata": {},
   "outputs": [],
   "source": [
    "from codes.process_automation import ProcessAutomation, ProcessToolUtilization\n",
    "file_directory = 'Data/Job Input Form_cleaned.xlsm'\n",
    "pa = ProcessAutomation(file_directory)\n",
    "pa.to_excel()\n",
    "\n",
    "tool_files = {\n",
    "    \"Data/M4_Utilization_Sheet.txt\": \"M4\",\n",
    "    \"Data/M5_Utilization_Sheet.txt\": \"M5\",\n",
    "    \"Data/CP_Utilization_Sheet.txt\": \"CP\"\n",
    "}\n",
    "psd_filepath = 'Data/Work Week Calendar.xlsx'\n",
    "tu = ProcessToolUtilization(tool_files, psd_filepath)\n",
    "tu.to_excel()"
   ]
  },
  {
   "cell_type": "markdown",
   "id": "035b808b",
   "metadata": {},
   "source": [
    "# Project 2"
   ]
  },
  {
   "cell_type": "code",
   "execution_count": 1,
   "id": "6691cb06",
   "metadata": {},
   "outputs": [],
   "source": [
    "#pip install plotlyPowerpoint\n",
    "#pip install -U kaleido\n",
    "#pip install holidays\n",
    "#pip install python-pptx\n",
    "\n",
    "from codes.Turnaround_Time import Cleaning \n",
    "from codes.Turnaround_Time import Imputing  \n",
    "from codes.Turnaround_Time import Calculation\n",
    "from codes.build_dashboard import BuildDashboard\n",
    "\n",
    "directory = 'Input Data/'"
   ]
  },
  {
   "cell_type": "markdown",
   "id": "16c352c2",
   "metadata": {},
   "source": [
    "## Step 1: Data Cleaning"
   ]
  },
  {
   "cell_type": "code",
   "execution_count": 2,
   "id": "e0e64533",
   "metadata": {},
   "outputs": [
    {
     "name": "stdout",
     "output_type": "stream",
     "text": [
      "1. All Strings are reformatted, data is cleaned\n",
      "2. Useful features are created\n",
      "3. Irrelevant jobs (e.g. PFA only jobs are removed)\n",
      "4. Missing Data is outputted in Excel \n",
      " at Data/Singapore_Device_Priority - Cleaned.xlsx\n",
      "5. Cleaned Data is outputted in Excel \n",
      " at Data/Singapore_Device_Priority - Missing Data.xlsx\n"
     ]
    }
   ],
   "source": [
    "Cleaning.run_clean(directory)"
   ]
  },
  {
   "cell_type": "markdown",
   "id": "5277f621",
   "metadata": {},
   "source": [
    "## Step 2: Missing Data Retrieval"
   ]
  },
  {
   "cell_type": "markdown",
   "id": "c79876f5",
   "metadata": {},
   "source": [
    "## Step 3: Data Imputation"
   ]
  },
  {
   "cell_type": "code",
   "execution_count": 2,
   "id": "8c6c5d71",
   "metadata": {},
   "outputs": [
    {
     "name": "stdout",
     "output_type": "stream",
     "text": [
      "1. DataFrame has been updated with the latest data\n",
      "2. All dates are standardised\n",
      "3. Resume and Pause Columns are filled\n",
      "4. Incoming Jobs are formatted\n",
      "5. Cancelled Jobs are formatted\n",
      "6. Smart Inference excuted for FI Pause and Resume\n",
      "7. Imputed Data is outputted in Excel at \n",
      " Data/Singapore_Device_Priority - Imputed.xlsx\n"
     ]
    }
   ],
   "source": [
    "Imputing.run_impute(directory)"
   ]
  },
  {
   "cell_type": "markdown",
   "id": "5f15e7eb",
   "metadata": {},
   "source": [
    "## Step 4: Metric Formulation"
   ]
  },
  {
   "cell_type": "code",
   "execution_count": 3,
   "id": "4a5a0615",
   "metadata": {},
   "outputs": [
    {
     "name": "stdout",
     "output_type": "stream",
     "text": [
      "Please check LMS #: []\n",
      "1. Summary of Jobs have been processed\n",
      "\n",
      "Total jobs in database: 50\n",
      "Total completed jobs: 28\n",
      "---------------------------------------------\n",
      "Total completed jobs by FI-only: 7\n",
      "Total completed jobs by FI-only without completed date: 1\n",
      "Total completed jobs by FI-only without start date: 0\n",
      "Total completed jobs by FI-only with both dates: 6\n",
      "FI-Only Jobs without completed/ start dates:\n",
      "['CS0027625SG']\n",
      "---------------------------------------------\n",
      "Total completed jobs by FI-PFA: 21\n",
      "Total completed jobs by FI-PFA without completed date: 0\n",
      "Total completed jobs by FI-PFA without start date: 0\n",
      "Total completed jobs by FI-PFA with both dates: 21\n",
      "\n",
      "2. Turnaround time has been calculated\n",
      "3. Calculated Data is outputted in Excel \n",
      " at Data/Singapore_Device_Priority - Calculated.xlsx\n"
     ]
    }
   ],
   "source": [
    "Calculation.run_calculation(directory)"
   ]
  },
  {
   "cell_type": "markdown",
   "id": "d6962683",
   "metadata": {},
   "source": [
    "# Dashboard Visualisation"
   ]
  },
  {
   "cell_type": "code",
   "execution_count": 2,
   "id": "b6e6553c",
   "metadata": {},
   "outputs": [
    {
     "data": {
      "application/javascript": [
       "IPython.OutputArea.auto_scroll_threshold = 9999;\n"
      ],
      "text/plain": [
       "<IPython.core.display.Javascript object>"
      ]
     },
     "metadata": {},
     "output_type": "display_data"
    }
   ],
   "source": [
    "%%javascript\n",
    "IPython.OutputArea.auto_scroll_threshold = 9999;"
   ]
  },
  {
   "cell_type": "code",
   "execution_count": 3,
   "id": "f4fb6330",
   "metadata": {
    "scrolled": false
   },
   "outputs": [
    {
     "data": {
      "application/vnd.jupyter.widget-view+json": {
       "model_id": "fb8bb487020e4c70bf7cf49ca75488f4",
       "version_major": 2,
       "version_minor": 0
      },
      "text/plain": [
       "VBox(children=(HBox(children=(Button(button_style='warning', description='Export KPI Graphs to PPT', layout=La…"
      ]
     },
     "metadata": {},
     "output_type": "display_data"
    }
   ],
   "source": [
    "app = BuildDashboard().app\n",
    "app"
   ]
  }
 ],
 "metadata": {
  "kernelspec": {
   "display_name": "Python 3 (ipykernel)",
   "language": "python",
   "name": "python3"
  },
  "language_info": {
   "codemirror_mode": {
    "name": "ipython",
    "version": 3
   },
   "file_extension": ".py",
   "mimetype": "text/x-python",
   "name": "python",
   "nbconvert_exporter": "python",
   "pygments_lexer": "ipython3",
   "version": "3.9.13"
  }
 },
 "nbformat": 4,
 "nbformat_minor": 5
}
