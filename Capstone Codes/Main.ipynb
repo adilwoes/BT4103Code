{
 "cells": [
  {
   "cell_type": "markdown",
   "id": "c76d3bc7",
   "metadata": {},
   "source": [
    "# Project 1"
   ]
  },
  {
   "cell_type": "code",
   "execution_count": 1,
   "id": "20d87ecf",
   "metadata": {},
   "outputs": [],
   "source": [
    "import os\n",
    "import warnings\n",
    "warnings.filterwarnings(\"ignore\")\n",
    "current_directory = os.getcwd()"
   ]
  },
  {
   "cell_type": "code",
   "execution_count": 2,
   "id": "faff53d5",
   "metadata": {},
   "outputs": [],
   "source": [
    "# list of FI analysts - update accordingly\n",
    "ANALYSTS = ['david jinjie', 'hu haoran', 'nathan linarto', \n",
    "            'winson lua', 'ng kaihui', 'angeline phoa', \n",
    "            'gopinath ranganathan', 'venkat-krishnan ravikumar', \n",
    "            'seah yi-xuan', 'vasanth somasundaram', 'nicholas tee']"
   ]
  },
  {
   "cell_type": "code",
   "execution_count": 3,
   "id": "46d290b4",
   "metadata": {},
   "outputs": [],
   "source": [
    "from codes.process_automation import ProcessAutomation\n",
    "file_directory = 'Data/Job Input Form_cleaned.xlsm'\n",
    "# tab_name = 'Hist. Data'\n",
    "pa = ProcessAutomation(file_directory)\n",
    "pa.to_excel()"
   ]
  },
  {
   "cell_type": "markdown",
   "id": "5584fe24",
   "metadata": {},
   "source": [
    "# Project 2"
   ]
  },
  {
   "cell_type": "code",
   "execution_count": 4,
   "id": "37104550",
   "metadata": {},
   "outputs": [],
   "source": [
    "#pip install plotlyPowerpoint\n",
    "#pip install -U kaleido\n",
    "#pip install holidays\n",
    "#pip install python-pptx\n",
    "\n",
    "from codes import Cleaning \n",
    "from codes import Imputing  \n",
    "from codes import Calculation\n",
    "from codes.build_dashboard import BuildDashboard\n",
    "\n",
    "directory = r'C:\\Users\\aliciteo\\Documents\\Priority_List'"
   ]
  },
  {
   "cell_type": "markdown",
   "id": "3e5b6498",
   "metadata": {},
   "source": [
    "# Step 1: Data Cleaning"
   ]
  },
  {
   "cell_type": "code",
   "execution_count": null,
   "id": "49cc8e59",
   "metadata": {},
   "outputs": [],
   "source": [
    "#Cleaning.run_clean(directory)"
   ]
  },
  {
   "cell_type": "markdown",
   "id": "1776a0da",
   "metadata": {},
   "source": [
    "# Step 2: Missing Data Retrieval (Investigation)"
   ]
  },
  {
   "cell_type": "markdown",
   "id": "5858b698",
   "metadata": {},
   "source": [
    "# Step 3: Data Imputation"
   ]
  },
  {
   "cell_type": "code",
   "execution_count": null,
   "id": "9f7afbb7",
   "metadata": {},
   "outputs": [],
   "source": [
    "Imputing.run_impute(directory)"
   ]
  },
  {
   "cell_type": "markdown",
   "id": "dd803462",
   "metadata": {},
   "source": [
    "# Step 4: Metrics Calculation"
   ]
  },
  {
   "cell_type": "code",
   "execution_count": null,
   "id": "9c003dd0",
   "metadata": {},
   "outputs": [],
   "source": [
    "Calculation.run_calculation(directory)"
   ]
  },
  {
   "cell_type": "markdown",
   "id": "b4772260",
   "metadata": {},
   "source": [
    "# Step 5: Dashboard Visualisation"
   ]
  },
  {
   "cell_type": "code",
   "execution_count": 5,
   "id": "fd14fd22",
   "metadata": {},
   "outputs": [
    {
     "data": {
      "application/javascript": [
       "IPython.OutputArea.auto_scroll_threshold = 9999;\n"
      ],
      "text/plain": [
       "<IPython.core.display.Javascript object>"
      ]
     },
     "metadata": {},
     "output_type": "display_data"
    }
   ],
   "source": [
    "%%javascript\n",
    "IPython.OutputArea.auto_scroll_threshold = 9999;"
   ]
  },
  {
   "cell_type": "code",
   "execution_count": 7,
   "id": "716802bf",
   "metadata": {
    "scrolled": false
   },
   "outputs": [
    {
     "data": {
      "application/vnd.jupyter.widget-view+json": {
       "model_id": "a2537e20e7314d029cdde58097becf78",
       "version_major": 2,
       "version_minor": 0
      },
      "text/plain": [
       "VBox(children=(HBox(children=(Button(button_style='warning', description='Export KPI Graphs to PPT', layout=La…"
      ]
     },
     "execution_count": 7,
     "metadata": {},
     "output_type": "execute_result"
    }
   ],
   "source": [
    "app = BuildDashboard().app\n",
    "app"
   ]
  },
  {
   "cell_type": "code",
   "execution_count": null,
   "id": "330b7b11",
   "metadata": {},
   "outputs": [],
   "source": []
  }
 ],
 "metadata": {
  "kernelspec": {
   "display_name": "Python 3 (ipykernel)",
   "language": "python",
   "name": "python3"
  },
  "language_info": {
   "codemirror_mode": {
    "name": "ipython",
    "version": 3
   },
   "file_extension": ".py",
   "mimetype": "text/x-python",
   "name": "python",
   "nbconvert_exporter": "python",
   "pygments_lexer": "ipython3",
   "version": "3.9.15"
  }
 },
 "nbformat": 4,
 "nbformat_minor": 5
}
