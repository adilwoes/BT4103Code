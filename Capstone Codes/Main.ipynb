{
 "cells": [
  {
   "cell_type": "markdown",
   "id": "86a353c6",
   "metadata": {},
   "source": [
    "# Project 1"
   ]
  },
  {
   "cell_type": "code",
   "execution_count": null,
   "id": "3eb01f13",
   "metadata": {},
   "outputs": [],
   "source": [
    "import os\n",
    "import warnings\n",
    "warnings.filterwarnings(\"ignore\")\n",
    "current_directory = os.getcwd()"
   ]
  },
  {
   "cell_type": "code",
   "execution_count": null,
   "id": "c75633ba",
   "metadata": {},
   "outputs": [],
   "source": [
    "from codes.process_automation import ProcessAutomation, ProcessToolUtilization\n",
    "file_directory = 'Data/Job Input Form_cleaned.xlsm'\n",
    "pa = ProcessAutomation(file_directory)\n",
    "pa.to_excel()\n",
    "\n",
    "tool_files = {\n",
    "    \"Data/M4_Utilization_Sheet.txt\": \"M4\",\n",
    "    \"Data/M5_Utilization_Sheet.txt\": \"M5\",\n",
    "    \"Data/CP_Utilization_Sheet.txt\": \"CP\"\n",
    "}\n",
    "psd_filepath = 'Data/Work Week Calendar.xlsx'\n",
    "tu = ProcessToolUtilization(tool_files, psd_filepath)\n",
    "tu.to_excel()"
   ]
  },
  {
   "cell_type": "markdown",
   "id": "2bb43f78",
   "metadata": {},
   "source": [
    "# Project 2"
   ]
  },
  {
   "cell_type": "code",
   "execution_count": null,
   "id": "e5ebe8ad",
   "metadata": {},
   "outputs": [],
   "source": [
    "#pip install plotlyPowerpoint\n",
    "#pip install -U kaleido\n",
    "#pip install holidays\n",
    "#pip install python-pptx\n",
    "\n",
    "from codes import Cleaning \n",
    "from codes import Imputing  \n",
    "from codes import Calculation\n",
    "from codes.build_dashboard import BuildDashboard\n",
    "\n",
    "directory = 'Input Data/'"
   ]
  },
  {
   "cell_type": "markdown",
   "id": "028cb66c",
   "metadata": {},
   "source": [
    "## Step 1: Data Cleaning"
   ]
  },
  {
   "cell_type": "code",
   "execution_count": null,
   "id": "926a5a40",
   "metadata": {},
   "outputs": [],
   "source": [
    "Cleaning.run_clean(directory)"
   ]
  },
  {
   "cell_type": "markdown",
   "id": "57a5bec8",
   "metadata": {},
   "source": [
    "## Step 2: Missing Data Retrieval"
   ]
  },
  {
   "cell_type": "markdown",
   "id": "45729a94",
   "metadata": {},
   "source": [
    "## Step 3: Data Imputation"
   ]
  },
  {
   "cell_type": "code",
   "execution_count": null,
   "id": "8d875272",
   "metadata": {},
   "outputs": [],
   "source": [
    "Imputing.run_impute(directory)"
   ]
  },
  {
   "cell_type": "markdown",
   "id": "0634a8bb",
   "metadata": {},
   "source": [
    "## Step 4: Metric Formulation"
   ]
  },
  {
   "cell_type": "code",
   "execution_count": null,
   "id": "8d798de4",
   "metadata": {},
   "outputs": [],
   "source": [
    "Calculation.run_calculation(directory)"
   ]
  },
  {
   "cell_type": "markdown",
   "id": "903bf095",
   "metadata": {},
   "source": [
    "# Dashboard Visualisation"
   ]
  },
  {
   "cell_type": "code",
   "execution_count": null,
   "id": "bd0bfc96",
   "metadata": {},
   "outputs": [],
   "source": [
    "%%javascript\n",
    "IPython.OutputArea.auto_scroll_threshold = 9999;"
   ]
  },
  {
   "cell_type": "code",
   "execution_count": null,
   "id": "fb593071",
   "metadata": {},
   "outputs": [],
   "source": [
    "app = BuildDashboard().app\n",
    "app"
   ]
  }
 ],
 "metadata": {
  "kernelspec": {
   "display_name": "Python 3 (ipykernel)",
   "language": "python",
   "name": "python3"
  },
  "language_info": {
   "codemirror_mode": {
    "name": "ipython",
    "version": 3
   },
   "file_extension": ".py",
   "mimetype": "text/x-python",
   "name": "python",
   "nbconvert_exporter": "python",
   "pygments_lexer": "ipython3",
   "version": "3.9.7"
  }
 },
 "nbformat": 4,
 "nbformat_minor": 5
}
