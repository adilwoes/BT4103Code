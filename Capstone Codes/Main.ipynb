{
 "cells": [
  {
   "cell_type": "code",
   "execution_count": 1,
   "id": "37104550",
   "metadata": {},
   "outputs": [],
   "source": [
    "#pip install plotlyPowerpoint\n",
    "#pip install -U kaleido\n",
    "#pip install holidays\n",
    "\n",
    "from codes import Cleaning \n",
    "from codes import Imputing  \n",
    "from codes import Calculation\n",
    "from codes.build_dashboard import BuildDashboard\n",
    "\n",
    "directory = r'C:\\Users\\aliciteo\\Documents\\Priority_List'"
   ]
  },
  {
   "cell_type": "markdown",
   "id": "5584fe24",
   "metadata": {},
   "source": [
    "# Project 2"
   ]
  },
  {
   "cell_type": "markdown",
   "id": "3e5b6498",
   "metadata": {},
   "source": [
    "# Step 1: Data Cleaning"
   ]
  },
  {
   "cell_type": "code",
   "execution_count": 2,
   "id": "49cc8e59",
   "metadata": {},
   "outputs": [],
   "source": [
    "#Cleaning.run_clean(directory)"
   ]
  },
  {
   "cell_type": "markdown",
   "id": "1776a0da",
   "metadata": {},
   "source": [
    "# Step 2: Missing Data Retrieval (Investigation)"
   ]
  },
  {
   "cell_type": "markdown",
   "id": "5858b698",
   "metadata": {},
   "source": [
    "# Step 3: Data Imputation"
   ]
  },
  {
   "cell_type": "code",
   "execution_count": 3,
   "id": "9f7afbb7",
   "metadata": {},
   "outputs": [
    {
     "name": "stdout",
     "output_type": "stream",
     "text": [
      "1. DataFrame has been updated with the latest data\n",
      "2. All dates are standardised\n",
      "3. Resume and Pause Columns are filled\n",
      "4. Incoming Jobs are formatted\n",
      "5. Cancelled Jobs are formatted\n",
      "6. Smart Inference excuted for FI Pause and Resume\n",
      "Please check LMS #: []\n"
     ]
    }
   ],
   "source": [
    "Imputing.run_impute(directory)"
   ]
  },
  {
   "cell_type": "markdown",
   "id": "dd803462",
   "metadata": {},
   "source": [
    "# Step 4: Metrics Calculation"
   ]
  },
  {
   "cell_type": "code",
   "execution_count": 4,
   "id": "9c003dd0",
   "metadata": {},
   "outputs": [
    {
     "name": "stdout",
     "output_type": "stream",
     "text": [
      "1. Summary of Jobs have been processed\n",
      "\n",
      "Total jobs in database: 136\n",
      "Total completed jobs: 98\n",
      "---------------------------------------------\n",
      "Total completed jobs by FI-only: 21\n",
      "Total completed jobs by FI-only without completed date: 0\n",
      "Total completed jobs by FI-only without start date: 1\n",
      "Total completed jobs by FI-only with both dates: 20\n",
      "FI-Only Jobs without completed/ start dates:\n",
      "['CS0026042SG']\n",
      "---------------------------------------------\n",
      "Total completed jobs by FI-PFA: 77\n",
      "Total completed jobs by FI-PFA without completed date: 0\n",
      "Total completed jobs by FI-PFA without start date: 0\n",
      "Total completed jobs by FI-PFA with both dates: 77\n",
      "\n",
      "2. Turnaround time has been calculated\n"
     ]
    }
   ],
   "source": [
    "Calculation.run_calculation(directory)"
   ]
  },
  {
   "cell_type": "markdown",
   "id": "b4772260",
   "metadata": {},
   "source": [
    "# Step 5: Dashboard Visualisation"
   ]
  },
  {
   "cell_type": "code",
   "execution_count": 5,
   "id": "fd14fd22",
   "metadata": {},
   "outputs": [
    {
     "data": {
      "application/javascript": [
       "IPython.OutputArea.auto_scroll_threshold = 9999;\n"
      ],
      "text/plain": [
       "<IPython.core.display.Javascript object>"
      ]
     },
     "metadata": {},
     "output_type": "display_data"
    }
   ],
   "source": [
    "%%javascript\n",
    "IPython.OutputArea.auto_scroll_threshold = 9999;"
   ]
  },
  {
   "cell_type": "code",
   "execution_count": 6,
   "id": "716802bf",
   "metadata": {
    "scrolled": false
   },
   "outputs": [
    {
     "data": {
      "application/vnd.jupyter.widget-view+json": {
       "model_id": "6090643244714ec1993c0d2e58d3e400",
       "version_major": 2,
       "version_minor": 0
      },
      "text/plain": [
       "VBox(children=(HBox(children=(Button(button_style='warning', description='Export KPI Graphs to PPT', layout=La…"
      ]
     },
     "metadata": {},
     "output_type": "display_data"
    }
   ],
   "source": [
    "app = BuildDashboard().app\n",
    "app"
   ]
  }
 ],
 "metadata": {
  "kernelspec": {
   "display_name": "Python 3 (ipykernel)",
   "language": "python",
   "name": "python3"
  },
  "language_info": {
   "codemirror_mode": {
    "name": "ipython",
    "version": 3
   },
   "file_extension": ".py",
   "mimetype": "text/x-python",
   "name": "python",
   "nbconvert_exporter": "python",
   "pygments_lexer": "ipython3",
   "version": "3.9.7"
  }
 },
 "nbformat": 4,
 "nbformat_minor": 5
}
