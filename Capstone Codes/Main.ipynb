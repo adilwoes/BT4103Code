{
 "cells": [
  {
   "cell_type": "code",
   "execution_count": 1,
   "id": "37104550",
   "metadata": {},
   "outputs": [],
   "source": [
    "#pip install plotlyPowerpoint\n",
    "#pip install -U kaleido\n",
    "#pip install holidays\n",
    "#pip install python-pptx\n",
    "\n",
    "from codes import Cleaning \n",
    "from codes import Imputing  \n",
    "from codes import Calculation\n",
    "from codes import format_job_input_form\n",
    "from codes.build_dashboard import BuildDashboard\n",
    "\n",
    "import os\n",
    "current_directory = os.getcwd()\n",
    "\n",
    "directory = r'C:\\Users\\aliciteo\\Documents\\Priority_List'"
   ]
  },
  {
   "cell_type": "markdown",
   "id": "c76d3bc7",
   "metadata": {},
   "source": [
    "# Project 1"
   ]
  },
  {
   "cell_type": "code",
   "execution_count": 2,
   "id": "faff53d5",
   "metadata": {},
   "outputs": [],
   "source": [
    "# list of FI analysts - update accordingly\n",
    "ANALYSTS = ['david jinjie', 'hu haoran', 'nathan linarto', \n",
    "            'winson lua', 'ng kaihui', 'angeline phoa', \n",
    "            'gopinath ranganathan', 'venkat-krishnan ravikumar', \n",
    "            'seah yi-xuan', 'vasanth somasundaram', 'nicholas tee']"
   ]
  },
  {
   "cell_type": "code",
   "execution_count": 3,
   "id": "46d290b4",
   "metadata": {},
   "outputs": [],
   "source": [
    "from codes import format_job_input_form\n",
    "file_directory = '/Data/Job Input Form_cleaned.xlsm'\n",
    "tab_name = 'Hist. Data'\n",
    "format_job_input_form.run_format(current_directory, file_directory, tab_name, ANALYSTS)"
   ]
  },
  {
   "cell_type": "markdown",
   "id": "5584fe24",
   "metadata": {},
   "source": [
    "# Project 2"
   ]
  },
  {
   "cell_type": "markdown",
   "id": "3e5b6498",
   "metadata": {},
   "source": [
    "# Step 1: Data Cleaning"
   ]
  },
  {
   "cell_type": "code",
   "execution_count": 2,
   "id": "49cc8e59",
   "metadata": {},
   "outputs": [],
   "source": [
    "#Cleaning.run_clean(directory)"
   ]
  },
  {
   "cell_type": "markdown",
   "id": "1776a0da",
   "metadata": {},
   "source": [
    "# Step 2: Missing Data Retrieval (Investigation)"
   ]
  },
  {
   "cell_type": "markdown",
   "id": "5858b698",
   "metadata": {},
   "source": [
    "# Step 3: Data Imputation"
   ]
  },
  {
   "cell_type": "code",
   "execution_count": 3,
   "id": "9f7afbb7",
   "metadata": {},
   "outputs": [
    {
     "name": "stdout",
     "output_type": "stream",
     "text": [
      "Please check LMS #: []\n"
     ]
    }
   ],
   "source": [
    "Imputing.run_impute(directory)"
   ]
  },
  {
   "cell_type": "markdown",
   "id": "dd803462",
   "metadata": {},
   "source": [
    "# Step 4: Metrics Calculation"
   ]
  },
  {
   "cell_type": "code",
   "execution_count": 4,
   "id": "9c003dd0",
   "metadata": {},
   "outputs": [
    {
     "name": "stdout",
     "output_type": "stream",
     "text": [
      "Total jobs in database: 136\n",
      "Total completed jobs: 98\n",
      "--------------------------\n",
      "Total completed jobs by FI-only: 21\n",
      "Total completed jobs by FI-only without completed date: 0\n",
      "Total completed jobs by FI-only without start date: 1\n",
      "Total completed jobs by FI-only with both dates: 20\n",
      "FI-Only Jobs without completed/ start dates:\n",
      "['CS0026042SG']\n",
      "---------------------------------------------\n",
      "Total completed jobs by FI-PFA: 77\n",
      "Total completed jobs by FI-PFA without completed date: 0\n",
      "Total completed jobs by FI-PFA without start date: 0\n",
      "Total completed jobs by FI-PFA with both dates: 77\n"
     ]
    }
   ],
   "source": [
    "Calculation.run_calculation(directory)"
   ]
  },
  {
   "cell_type": "markdown",
   "id": "b4772260",
   "metadata": {},
   "source": [
    "# Step 5: Dashboard Visualisation"
   ]
  },
  {
   "cell_type": "code",
   "execution_count": 5,
   "id": "fd14fd22",
   "metadata": {},
   "outputs": [
    {
     "data": {
      "application/javascript": "IPython.OutputArea.auto_scroll_threshold = 9999;\n",
      "text/plain": [
       "<IPython.core.display.Javascript object>"
      ]
     },
     "metadata": {},
     "output_type": "display_data"
    }
   ],
   "source": [
    "%%javascript\n",
    "IPython.OutputArea.auto_scroll_threshold = 9999;"
   ]
  },
  {
   "cell_type": "code",
   "execution_count": 6,
   "id": "716802bf",
   "metadata": {
    "scrolled": false
   },
   "outputs": [
    {
     "data": {
      "application/vnd.jupyter.widget-view+json": {
       "model_id": "c8fd3c99bfc242c1bad8df080db2a090",
       "version_major": 2,
       "version_minor": 0
      },
      "text/plain": [
       "VBox(children=(HBox(children=(Button(button_style='warning', description='Export KPI Graphs to PPT', layout=La…"
      ]
     },
     "metadata": {},
     "output_type": "display_data"
    }
   ],
   "source": [
    "app = BuildDashboard().app\n",
    "app"
   ]
  },
  {
   "cell_type": "code",
   "execution_count": 7,
   "id": "0bab9c5d",
   "metadata": {},
   "outputs": [
    {
     "data": {
      "application/vnd.jupyter.widget-view+json": {
       "model_id": "0dde5c6491ce431da0c25631882f91e9",
       "version_major": 2,
       "version_minor": 0
      },
      "text/plain": [
       "FigureWidget({\n",
       "    'data': [{'marker': {'color': '#104E8B'},\n",
       "              'name': 'Analysis',\n",
       "              'type': 'bar',\n",
       "              'uid': '79755f32-0242-4d18-93d0-e7cf3f5b7264',\n",
       "              'x': array(['2021-12', '2022-01', '2022-02', '2022-03', '2022-04', '2022-05',\n",
       "                          '2022-06', '2022-07', '2022-08', '2022-09', '2022-10', '2022-11',\n",
       "                          '2022-12', '2023-01', '2023-02'], dtype=object),\n",
       "              'y': array([55.        , 25.6       , 16.        , 37.75      , 41.33333333,\n",
       "                          52.33333333, 16.88888889, 27.11111111, 14.        , 21.125     ,\n",
       "                          34.66666667, 20.91666667, 24.66666667, 10.875     , 54.5       ]),\n",
       "              'yaxis': 'y'},\n",
       "             {'marker': {'color': '#8B1A1A'},\n",
       "              'name': 'Queue',\n",
       "              'type': 'bar',\n",
       "              'uid': 'fe00d32e-87cb-4fee-a5a3-dd12928c61c7',\n",
       "              'x': array(['2021-12', '2022-01', '2022-02', '2022-03', '2022-04', '2022-05',\n",
       "                          '2022-06', '2022-07', '2022-08', '2022-09', '2022-10', '2022-11',\n",
       "                          '2022-12', '2023-01', '2023-02'], dtype=object),\n",
       "              'y': array([ 0.        , 23.5       ,  9.6       ,  8.41666667,  3.88888889,\n",
       "                           0.        ,  2.55555556,  3.11111111,  0.        ,  5.75      ,\n",
       "                           5.        ,  0.        ,  0.66666667, 17.875     ,  0.        ]),\n",
       "              'yaxis': 'y'},\n",
       "             {'line': {'width': 4},\n",
       "              'marker': {'color': '#A2CD5A'},\n",
       "              'name': 'KPI Goal',\n",
       "              'type': 'scatter',\n",
       "              'uid': '900e5509-e5c3-4fe0-867c-ac817566d039',\n",
       "              'x': array(['2021-12', '2022-01', '2022-02', '2022-03', '2022-04', '2022-05',\n",
       "                          '2022-06', '2022-07', '2022-08', '2022-09', '2022-10', '2022-11',\n",
       "                          '2022-12', '2023-01', '2023-02'], dtype=object),\n",
       "              'y': [10, 10, 10, 10, 10, 10, 10, 10, 10, 10, 10, 10, 10, 10, 10],\n",
       "              'yaxis': 'y'},\n",
       "             {'marker': {'color': '#68228B'},\n",
       "              'name': 'Tester Utilisation',\n",
       "              'type': 'scatter',\n",
       "              'uid': '5631cbe7-91ae-4e16-af67-a916228996e9',\n",
       "              'x': array(['2021-12', '2022-01', '2022-02', '2022-03', '2022-04', '2022-05',\n",
       "                          '2022-06', '2022-07', '2022-08', '2022-09', '2022-10', '2022-11',\n",
       "                          '2022-12', '2023-01', '2023-02'], dtype=object),\n",
       "              'y': [0, 0, 0, 0, 0, 0, 0, 0, 0, 0, 0, 0, 0, 0, 0],\n",
       "              'yaxis': 'y2'}],\n",
       "    'layout': {'barmode': 'relative',\n",
       "               'template': '...',\n",
       "               'title': {'text': 'TAT'},\n",
       "               'xaxis': {'title': {'text': 'Month'}},\n",
       "               'yaxis': {'range': [0, 100], 'title': {'text': '# of Days'}},\n",
       "               'yaxis2': {'overlaying': 'y',\n",
       "                          'range': [0, 100],\n",
       "                          'side': 'right',\n",
       "                          'title': {'text': 'Tester Utilisation %'}}}\n",
       "})"
      ]
     },
     "execution_count": 7,
     "metadata": {},
     "output_type": "execute_result"
    }
   ],
   "source": [
    "import re\n",
    "import os\n",
    "import copy\n",
    "import warnings\n",
    "import numpy as np\n",
    "import pandas as pd\n",
    "from datetime import datetime, timedelta\n",
    "from dateutil.relativedelta import relativedelta\n",
    "warnings.filterwarnings(\"ignore\")\n",
    "import ipywidgets as widgets\n",
    "from ipywidgets import Button, Layout, HBox, \\\n",
    "         VBox, Tab, HTML, Dropdown, SelectMultiple\n",
    "import plotly.graph_objects as go\n",
    "\n",
    "df = pd.read_excel('Data/Singapore_Device_Priority_2022 - Calculated.xlsx')\n",
    "df = df.groupby('LMS #').last().loc[:,['Queue', 'Analysis', 'FI End']]\n",
    "df_res = df.groupby(df['FI End'].dt.strftime('%Y-%m')).mean().reset_index()\n",
    "\n",
    "layout = go.Layout(title='TAT', xaxis_title='Month',template = 'simple_white',\\\n",
    "                     yaxis=dict(title='# of Days'), yaxis2=dict(title='Tester Utilisation %',\n",
    "                                                                overlaying='y', side='right'))\n",
    "turnaround_graph = go.FigureWidget(layout=layout)\n",
    "turnaround_graph.add_bar(y=df_res['Analysis'], x = df_res['FI End'], name='Analysis', marker_color = '#104E8B', yaxis='y1')\n",
    "turnaround_graph.add_bar(y=df_res['Queue'], x = df_res['FI End'], name= 'Queue', marker_color = '#8B1A1A', yaxis='y1')\n",
    "turnaround_graph.add_scatter(y=[10] * len(df_res['Analysis']), x = df_res['FI End'],\\\n",
    "                             name= 'KPI Goal', line=dict(width=4), marker_color = '#A2CD5A', yaxis='y1')\n",
    "turnaround_graph.add_scatter(y=[0] * len(df_res['Analysis']), x = df_res['FI End'],\\\n",
    "                            name= 'Tester Utilisation', marker_color = '#68228B', yaxis='y2')\n",
    "turnaround_graph.update_layout(barmode=\"relative\")\n",
    "turnaround_graph.update_yaxes(range=[0, 100])"
   ]
  },
  {
   "cell_type": "code",
   "execution_count": null,
   "id": "bd12e7e0",
   "metadata": {},
   "outputs": [],
   "source": []
  }
 ],
 "metadata": {
  "kernelspec": {
   "display_name": "Python 3 (ipykernel)",
   "language": "python",
   "name": "python3"
  },
  "language_info": {
   "codemirror_mode": {
    "name": "ipython",
    "version": 3
   },
   "file_extension": ".py",
   "mimetype": "text/x-python",
   "name": "python",
   "nbconvert_exporter": "python",
   "pygments_lexer": "ipython3",
   "version": "3.9.7"
  }
 },
 "nbformat": 4,
 "nbformat_minor": 5
}
