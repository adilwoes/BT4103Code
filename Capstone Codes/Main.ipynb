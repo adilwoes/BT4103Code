{
 "cells": [
  {
   "cell_type": "markdown",
   "id": "c76d3bc7",
   "metadata": {},
   "source": [
    "# Project 1"
   ]
  },
  {
   "cell_type": "code",
   "execution_count": 1,
   "id": "20d87ecf",
   "metadata": {},
   "outputs": [],
   "source": [
    "import os\n",
    "import warnings\n",
    "warnings.filterwarnings(\"ignore\")\n",
    "current_directory = os.getcwd()"
   ]
  },
  {
   "cell_type": "code",
   "execution_count": 3,
   "id": "46d290b4",
   "metadata": {},
   "outputs": [],
   "source": [
    "from codes.process_automation import ProcessAutomation, ProcessToolUtilization\n",
    "file_directory = 'Data/Job Input Form_cleaned.xlsm'\n",
    "pa = ProcessAutomation(file_directory)\n",
    "pa.to_excel()\n",
    "\n",
    "tool_files = {\n",
    "    \"Data/M4_Utilization_Sheet.txt\": \"M4\",\n",
    "    \"Data/M5_Utilization_Sheet.txt\": \"M5\",\n",
    "    \"Data/CP_Utilization_Sheet.txt\": \"CP\"\n",
    "}\n",
    "psd_filepath = 'Data/Work Week Calendar.xlsx'\n",
    "tu = ProcessToolUtilization(tool_files, psd_filepath)\n",
    "tu.to_excel()"
   ]
  },
  {
   "cell_type": "markdown",
   "id": "5584fe24",
   "metadata": {},
   "source": [
    "# Project 2"
   ]
  },
  {
   "cell_type": "code",
   "execution_count": 4,
   "id": "37104550",
   "metadata": {},
   "outputs": [],
   "source": [
    "#pip install plotlyPowerpoint\n",
    "#pip install -U kaleido\n",
    "#pip install holidays\n",
    "#pip install python-pptx\n",
    "\n",
    "from codes import Cleaning \n",
    "from codes import Imputing  \n",
    "from codes import Calculation\n",
    "from codes.build_dashboard import BuildDashboard\n",
    "\n",
    "directory = 'Input Data/'"
   ]
  },
  {
   "attachments": {},
   "cell_type": "markdown",
   "id": "3e5b6498",
   "metadata": {},
   "source": [
    "## Step 1: Data Cleaning"
   ]
  },
  {
   "cell_type": "code",
   "execution_count": null,
   "id": "49cc8e59",
   "metadata": {},
   "outputs": [
    {
     "name": "stdout",
     "output_type": "stream",
     "text": [
      "1. All Strings are reformatted, data is cleaned\n",
      "2. Useful features are created\n",
      "3. Irrelevant jobs (e.g. PFA only jobs are removed)\n",
      "4. Missing Data is outputted in Excel \n",
      " at Data/Singapore_Device_Priority_2023 - Cleaned.xlsx\n",
      "5. Cleaned Data is outputted in Excel \n",
      " at Data/Singapore_Device_Priority_2023 - Missing Data.xlsx\n"
     ]
    }
   ],
   "source": [
    "Cleaning.run_clean(directory)"
   ]
  },
  {
   "attachments": {},
   "cell_type": "markdown",
   "id": "1776a0da",
   "metadata": {},
   "source": [
    "## Step 2: Missing Data Retrieval (Investigation)"
   ]
  },
  {
   "attachments": {},
   "cell_type": "markdown",
   "id": "5858b698",
   "metadata": {},
   "source": [
    "## Step 3: Data Imputation"
   ]
  },
  {
   "cell_type": "code",
   "execution_count": null,
   "id": "9f7afbb7",
<<<<<<< Updated upstream
   "metadata": {},
   "outputs": [],
=======
   "metadata": {
    "scrolled": true
   },
   "outputs": [
    {
     "name": "stdout",
     "output_type": "stream",
     "text": [
      "1. DataFrame has been updated with the latest data\n",
      "2. All dates are standardised\n",
      "3. Resume and Pause Columns are filled\n",
      "4. Incoming Jobs are formatted\n",
      "5. Cancelled Jobs are formatted\n",
      "6. Smart Inference excuted for FI Pause and Resume\n",
      "7. Imputed Data is outputted in Excel at \n",
      " Data/Singapore_Device_Priority_2023 - Imputed.xlsx\n"
     ]
    }
   ],
>>>>>>> Stashed changes
   "source": [
    "Imputing.run_impute(directory)"
   ]
  },
  {
   "attachments": {},
   "cell_type": "markdown",
   "id": "dd803462",
   "metadata": {},
   "source": [
    "## Step 4: Metrics Calculation"
   ]
  },
  {
   "cell_type": "code",
   "execution_count": null,
   "id": "9c003dd0",
   "metadata": {},
<<<<<<< Updated upstream
   "outputs": [],
=======
   "outputs": [
    {
     "name": "stdout",
     "output_type": "stream",
     "text": [
      "Please check LMS #: []\n",
      "1. Summary of Jobs have been processed\n",
      "\n",
      "Total jobs in database: 50\n",
      "Total completed jobs: 28\n",
      "---------------------------------------------\n",
      "Total completed jobs by FI-only: 7\n",
      "Total completed jobs by FI-only without completed date: 1\n",
      "Total completed jobs by FI-only without start date: 0\n",
      "Total completed jobs by FI-only with both dates: 6\n",
      "FI-Only Jobs without completed/ start dates:\n",
      "['CS0027625SG']\n",
      "---------------------------------------------\n",
      "Total completed jobs by FI-PFA: 21\n",
      "Total completed jobs by FI-PFA without completed date: 0\n",
      "Total completed jobs by FI-PFA without start date: 0\n",
      "Total completed jobs by FI-PFA with both dates: 21\n",
      "\n",
      "2. Turnaround time has been calculated\n",
      "3. Calculated Data is outputted in Excel \n",
      " at Data/Singapore_Device_Priority_2023 - Calculated.xlsx\n"
     ]
    }
   ],
>>>>>>> Stashed changes
   "source": [
    "Calculation.run_calculation(directory)"
   ]
  },
  {
   "attachments": {},
   "cell_type": "markdown",
   "id": "b4772260",
   "metadata": {},
   "source": [
    "## Step 5: Dashboard Visualisation"
   ]
  },
  {
   "cell_type": "code",
   "execution_count": 5,
   "id": "fd14fd22",
   "metadata": {},
   "outputs": [
    {
     "data": {
      "application/javascript": "IPython.OutputArea.auto_scroll_threshold = 9999;\n",
      "text/plain": [
       "<IPython.core.display.Javascript object>"
      ]
     },
     "metadata": {},
     "output_type": "display_data"
    }
   ],
   "source": [
    "%%javascript\n",
    "IPython.OutputArea.auto_scroll_threshold = 9999;"
   ]
  },
  {
   "cell_type": "code",
   "execution_count": 7,
   "id": "716802bf",
   "metadata": {
    "scrolled": false
   },
   "outputs": [
    {
     "data": {
      "application/vnd.jupyter.widget-view+json": {
<<<<<<< Updated upstream
       "model_id": "a2537e20e7314d029cdde58097becf78",
=======
       "model_id": "a24554b7558a4acd808c3fdb54d535cc",
>>>>>>> Stashed changes
       "version_major": 2,
       "version_minor": 0
      },
      "text/plain": [
       "VBox(children=(HBox(children=(Button(button_style='warning', description='Export KPI Graphs to PPT', layout=La…"
      ]
     },
     "execution_count": 7,
     "metadata": {},
     "output_type": "execute_result"
    }
   ],
   "source": [
    "app = BuildDashboard().app\n",
    "app"
   ]
  },
  {
   "cell_type": "code",
   "execution_count": null,
<<<<<<< Updated upstream
   "id": "330b7b11",
=======
   "id": "da3c2c17",
>>>>>>> Stashed changes
   "metadata": {},
   "outputs": [],
   "source": []
  }
 ],
 "metadata": {
  "kernelspec": {
   "display_name": "Python 3 (ipykernel)",
   "language": "python",
   "name": "python3"
  },
  "language_info": {
   "codemirror_mode": {
    "name": "ipython",
    "version": 3
   },
   "file_extension": ".py",
   "mimetype": "text/x-python",
   "name": "python",
   "nbconvert_exporter": "python",
   "pygments_lexer": "ipython3",
   "version": "3.9.13"
  }
 },
 "nbformat": 4,
 "nbformat_minor": 5
}
